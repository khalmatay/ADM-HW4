{
 "cells": [
  {
   "metadata": {},
   "cell_type": "markdown",
   "source": "# ADM-HW4",
   "id": "ab436629bc1d4d97"
  },
  {
   "metadata": {},
   "cell_type": "markdown",
   "source": "# 1. Recommendation System with LSH\n",
   "id": "5ebf8a85e42a5ba0"
  },
  {
   "metadata": {
    "ExecuteTime": {
     "end_time": "2024-12-04T13:37:56.002380Z",
     "start_time": "2024-12-04T13:37:55.905058Z"
    }
   },
   "cell_type": "code",
   "source": [
    "import os\n",
    "\n",
    "import kagglehub\n",
    "import pandas as pd\n",
    "\n",
    "# sets up pandas table display\n",
    "pd.set_option('display.width', 500)\n",
    "pd.set_option('display.max_columns', 100)\n",
    "pd.set_option('display.notebook_repr_html', True)"
   ],
   "id": "2550f220d3f6b572",
   "outputs": [],
   "execution_count": 6
  },
  {
   "metadata": {},
   "cell_type": "markdown",
   "source": "## 1.1 Data Preparation",
   "id": "583c7fad714f1506"
  },
  {
   "metadata": {
    "jupyter": {
     "is_executing": true
    }
   },
   "cell_type": "code",
   "source": [
    "\n",
    "path = kagglehub.dataset_download(\"grouplens/movielens-20m-dataset\")\n",
    "\n",
    "print(\"Path to dataset files:\", path)\n",
    "\n",
    "files = os.listdir(path)\n",
    "files"
   ],
   "id": "dea568a445eecec5",
   "outputs": [],
   "execution_count": null
  },
  {
   "metadata": {
    "ExecuteTime": {
     "end_time": "2024-12-04T13:26:21.503009Z",
     "start_time": "2024-12-04T13:24:55.778428Z"
    }
   },
   "cell_type": "code",
   "source": [
    "genome_scores = pd.read_csv(\"data/genome_scores.csv\")\n",
    "genome_tags = pd.read_csv(\"data/genome_tags.csv\")\n",
    "link = pd.read_csv(\"data/link.csv\")\n",
    "movie = pd.read_csv(\"data/movie.csv\")\n",
    "rating = pd.read_csv(\"data/rating.csv\")\n",
    "tag = pd.read_csv(\"data/tag.csv\")"
   ],
   "id": "c582fdb21c337813",
   "outputs": [],
   "execution_count": 5
  },
  {
   "metadata": {},
   "cell_type": "markdown",
   "source": [
    "# Data Overview\n",
    "\n",
    "## Content\n",
    "No demographic information is included. Each user is represented by an `id`, and no other information is provided.\n",
    "\n",
    "The data are contained in six files:\n",
    "\n",
    "### 1. `tag.csv`\n",
    "Contains tags applied to movies by users:\n",
    "- `userId`\n",
    "- `movieId`\n",
    "- `tag`\n",
    "- `timestamp`\n",
    "\n",
    "### 2. `rating.csv`\n",
    "Contains ratings of movies by users:\n",
    "- `userId`\n",
    "- `movieId`\n",
    "- `rating`\n",
    "- `timestamp`\n",
    "\n",
    "### 3. `movie.csv`\n",
    "Contains movie information:\n",
    "- `movieId`\n",
    "- `title`\n",
    "- `genres`\n",
    "\n",
    "### 4. `link.csv`\n",
    "Contains identifiers that can be used to link to other sources:\n",
    "- `movieId`\n",
    "- `imdbId`\n",
    "- `tmdbId`\n",
    "\n",
    "### 5. `genome_scores.csv`\n",
    "Contains movie-tag relevance data:\n",
    "- `movieId`\n",
    "- `tagId`\n",
    "- `relevance`\n",
    "\n",
    "### 6. `genome_tags.csv`\n",
    "Contains tag descriptions:\n",
    "- `tagId`\n",
    "- `tag`\n"
   ],
   "id": "36fb09297109ac7f"
  },
  {
   "metadata": {},
   "cell_type": "markdown",
   "source": [
    "## Structure_movie_dataset\n",
    "\n",
    "![Structure of Movie Dataset](images/structure_movie_dataset.jpg)\n",
    "\n"
   ],
   "id": "87b61372a26f274b"
  },
  {
   "metadata": {
    "ExecuteTime": {
     "end_time": "2024-12-04T13:41:18.049677Z",
     "start_time": "2024-12-04T13:41:18.036988Z"
    }
   },
   "cell_type": "code",
   "source": "tag.head()",
   "id": "544490b6dee27bb4",
   "outputs": [
    {
     "data": {
      "text/plain": [
       "   userId  movieId            tag            timestamp\n",
       "0      18     4141    Mark Waters  2009-04-24 18:19:40\n",
       "1      65      208      dark hero  2013-05-10 01:41:18\n",
       "2      65      353      dark hero  2013-05-10 01:41:19\n",
       "3      65      521  noir thriller  2013-05-10 01:39:43\n",
       "4      65      592      dark hero  2013-05-10 01:41:18"
      ],
      "text/html": [
       "<div>\n",
       "<style scoped>\n",
       "    .dataframe tbody tr th:only-of-type {\n",
       "        vertical-align: middle;\n",
       "    }\n",
       "\n",
       "    .dataframe tbody tr th {\n",
       "        vertical-align: top;\n",
       "    }\n",
       "\n",
       "    .dataframe thead th {\n",
       "        text-align: right;\n",
       "    }\n",
       "</style>\n",
       "<table border=\"1\" class=\"dataframe\">\n",
       "  <thead>\n",
       "    <tr style=\"text-align: right;\">\n",
       "      <th></th>\n",
       "      <th>userId</th>\n",
       "      <th>movieId</th>\n",
       "      <th>tag</th>\n",
       "      <th>timestamp</th>\n",
       "    </tr>\n",
       "  </thead>\n",
       "  <tbody>\n",
       "    <tr>\n",
       "      <th>0</th>\n",
       "      <td>18</td>\n",
       "      <td>4141</td>\n",
       "      <td>Mark Waters</td>\n",
       "      <td>2009-04-24 18:19:40</td>\n",
       "    </tr>\n",
       "    <tr>\n",
       "      <th>1</th>\n",
       "      <td>65</td>\n",
       "      <td>208</td>\n",
       "      <td>dark hero</td>\n",
       "      <td>2013-05-10 01:41:18</td>\n",
       "    </tr>\n",
       "    <tr>\n",
       "      <th>2</th>\n",
       "      <td>65</td>\n",
       "      <td>353</td>\n",
       "      <td>dark hero</td>\n",
       "      <td>2013-05-10 01:41:19</td>\n",
       "    </tr>\n",
       "    <tr>\n",
       "      <th>3</th>\n",
       "      <td>65</td>\n",
       "      <td>521</td>\n",
       "      <td>noir thriller</td>\n",
       "      <td>2013-05-10 01:39:43</td>\n",
       "    </tr>\n",
       "    <tr>\n",
       "      <th>4</th>\n",
       "      <td>65</td>\n",
       "      <td>592</td>\n",
       "      <td>dark hero</td>\n",
       "      <td>2013-05-10 01:41:18</td>\n",
       "    </tr>\n",
       "  </tbody>\n",
       "</table>\n",
       "</div>"
      ]
     },
     "execution_count": 8,
     "metadata": {},
     "output_type": "execute_result"
    }
   ],
   "execution_count": 8
  },
  {
   "metadata": {
    "ExecuteTime": {
     "end_time": "2024-12-04T13:41:33.661097Z",
     "start_time": "2024-12-04T13:41:33.595356Z"
    }
   },
   "cell_type": "code",
   "source": "movie.head()",
   "id": "dea55b0f7b87b1b2",
   "outputs": [
    {
     "data": {
      "text/plain": [
       "   movieId                               title                                       genres\n",
       "0        1                    Toy Story (1995)  Adventure|Animation|Children|Comedy|Fantasy\n",
       "1        2                      Jumanji (1995)                   Adventure|Children|Fantasy\n",
       "2        3             Grumpier Old Men (1995)                               Comedy|Romance\n",
       "3        4            Waiting to Exhale (1995)                         Comedy|Drama|Romance\n",
       "4        5  Father of the Bride Part II (1995)                                       Comedy"
      ],
      "text/html": [
       "<div>\n",
       "<style scoped>\n",
       "    .dataframe tbody tr th:only-of-type {\n",
       "        vertical-align: middle;\n",
       "    }\n",
       "\n",
       "    .dataframe tbody tr th {\n",
       "        vertical-align: top;\n",
       "    }\n",
       "\n",
       "    .dataframe thead th {\n",
       "        text-align: right;\n",
       "    }\n",
       "</style>\n",
       "<table border=\"1\" class=\"dataframe\">\n",
       "  <thead>\n",
       "    <tr style=\"text-align: right;\">\n",
       "      <th></th>\n",
       "      <th>movieId</th>\n",
       "      <th>title</th>\n",
       "      <th>genres</th>\n",
       "    </tr>\n",
       "  </thead>\n",
       "  <tbody>\n",
       "    <tr>\n",
       "      <th>0</th>\n",
       "      <td>1</td>\n",
       "      <td>Toy Story (1995)</td>\n",
       "      <td>Adventure|Animation|Children|Comedy|Fantasy</td>\n",
       "    </tr>\n",
       "    <tr>\n",
       "      <th>1</th>\n",
       "      <td>2</td>\n",
       "      <td>Jumanji (1995)</td>\n",
       "      <td>Adventure|Children|Fantasy</td>\n",
       "    </tr>\n",
       "    <tr>\n",
       "      <th>2</th>\n",
       "      <td>3</td>\n",
       "      <td>Grumpier Old Men (1995)</td>\n",
       "      <td>Comedy|Romance</td>\n",
       "    </tr>\n",
       "    <tr>\n",
       "      <th>3</th>\n",
       "      <td>4</td>\n",
       "      <td>Waiting to Exhale (1995)</td>\n",
       "      <td>Comedy|Drama|Romance</td>\n",
       "    </tr>\n",
       "    <tr>\n",
       "      <th>4</th>\n",
       "      <td>5</td>\n",
       "      <td>Father of the Bride Part II (1995)</td>\n",
       "      <td>Comedy</td>\n",
       "    </tr>\n",
       "  </tbody>\n",
       "</table>\n",
       "</div>"
      ]
     },
     "execution_count": 9,
     "metadata": {},
     "output_type": "execute_result"
    }
   ],
   "execution_count": 9
  },
  {
   "metadata": {
    "ExecuteTime": {
     "end_time": "2024-12-04T13:41:43.004429Z",
     "start_time": "2024-12-04T13:41:42.977756Z"
    }
   },
   "cell_type": "code",
   "source": "rating.head()",
   "id": "838995239287fd18",
   "outputs": [
    {
     "data": {
      "text/plain": [
       "   userId  movieId  rating            timestamp\n",
       "0       1        2   3.500  2005-04-02 23:53:47\n",
       "1       1       29   3.500  2005-04-02 23:31:16\n",
       "2       1       32   3.500  2005-04-02 23:33:39\n",
       "3       1       47   3.500  2005-04-02 23:32:07\n",
       "4       1       50   3.500  2005-04-02 23:29:40"
      ],
      "text/html": [
       "<div>\n",
       "<style scoped>\n",
       "    .dataframe tbody tr th:only-of-type {\n",
       "        vertical-align: middle;\n",
       "    }\n",
       "\n",
       "    .dataframe tbody tr th {\n",
       "        vertical-align: top;\n",
       "    }\n",
       "\n",
       "    .dataframe thead th {\n",
       "        text-align: right;\n",
       "    }\n",
       "</style>\n",
       "<table border=\"1\" class=\"dataframe\">\n",
       "  <thead>\n",
       "    <tr style=\"text-align: right;\">\n",
       "      <th></th>\n",
       "      <th>userId</th>\n",
       "      <th>movieId</th>\n",
       "      <th>rating</th>\n",
       "      <th>timestamp</th>\n",
       "    </tr>\n",
       "  </thead>\n",
       "  <tbody>\n",
       "    <tr>\n",
       "      <th>0</th>\n",
       "      <td>1</td>\n",
       "      <td>2</td>\n",
       "      <td>3.500</td>\n",
       "      <td>2005-04-02 23:53:47</td>\n",
       "    </tr>\n",
       "    <tr>\n",
       "      <th>1</th>\n",
       "      <td>1</td>\n",
       "      <td>29</td>\n",
       "      <td>3.500</td>\n",
       "      <td>2005-04-02 23:31:16</td>\n",
       "    </tr>\n",
       "    <tr>\n",
       "      <th>2</th>\n",
       "      <td>1</td>\n",
       "      <td>32</td>\n",
       "      <td>3.500</td>\n",
       "      <td>2005-04-02 23:33:39</td>\n",
       "    </tr>\n",
       "    <tr>\n",
       "      <th>3</th>\n",
       "      <td>1</td>\n",
       "      <td>47</td>\n",
       "      <td>3.500</td>\n",
       "      <td>2005-04-02 23:32:07</td>\n",
       "    </tr>\n",
       "    <tr>\n",
       "      <th>4</th>\n",
       "      <td>1</td>\n",
       "      <td>50</td>\n",
       "      <td>3.500</td>\n",
       "      <td>2005-04-02 23:29:40</td>\n",
       "    </tr>\n",
       "  </tbody>\n",
       "</table>\n",
       "</div>"
      ]
     },
     "execution_count": 10,
     "metadata": {},
     "output_type": "execute_result"
    }
   ],
   "execution_count": 10
  },
  {
   "metadata": {
    "ExecuteTime": {
     "end_time": "2024-12-04T13:41:52.619982Z",
     "start_time": "2024-12-04T13:41:52.607397Z"
    }
   },
   "cell_type": "code",
   "source": "link.head()",
   "id": "ba89a387216dac70",
   "outputs": [
    {
     "data": {
      "text/plain": [
       "   movieId  imdbId    tmdbId\n",
       "0        1  114709   862.000\n",
       "1        2  113497  8844.000\n",
       "2        3  113228 15602.000\n",
       "3        4  114885 31357.000\n",
       "4        5  113041 11862.000"
      ],
      "text/html": [
       "<div>\n",
       "<style scoped>\n",
       "    .dataframe tbody tr th:only-of-type {\n",
       "        vertical-align: middle;\n",
       "    }\n",
       "\n",
       "    .dataframe tbody tr th {\n",
       "        vertical-align: top;\n",
       "    }\n",
       "\n",
       "    .dataframe thead th {\n",
       "        text-align: right;\n",
       "    }\n",
       "</style>\n",
       "<table border=\"1\" class=\"dataframe\">\n",
       "  <thead>\n",
       "    <tr style=\"text-align: right;\">\n",
       "      <th></th>\n",
       "      <th>movieId</th>\n",
       "      <th>imdbId</th>\n",
       "      <th>tmdbId</th>\n",
       "    </tr>\n",
       "  </thead>\n",
       "  <tbody>\n",
       "    <tr>\n",
       "      <th>0</th>\n",
       "      <td>1</td>\n",
       "      <td>114709</td>\n",
       "      <td>862.000</td>\n",
       "    </tr>\n",
       "    <tr>\n",
       "      <th>1</th>\n",
       "      <td>2</td>\n",
       "      <td>113497</td>\n",
       "      <td>8844.000</td>\n",
       "    </tr>\n",
       "    <tr>\n",
       "      <th>2</th>\n",
       "      <td>3</td>\n",
       "      <td>113228</td>\n",
       "      <td>15602.000</td>\n",
       "    </tr>\n",
       "    <tr>\n",
       "      <th>3</th>\n",
       "      <td>4</td>\n",
       "      <td>114885</td>\n",
       "      <td>31357.000</td>\n",
       "    </tr>\n",
       "    <tr>\n",
       "      <th>4</th>\n",
       "      <td>5</td>\n",
       "      <td>113041</td>\n",
       "      <td>11862.000</td>\n",
       "    </tr>\n",
       "  </tbody>\n",
       "</table>\n",
       "</div>"
      ]
     },
     "execution_count": 11,
     "metadata": {},
     "output_type": "execute_result"
    }
   ],
   "execution_count": 11
  },
  {
   "metadata": {
    "ExecuteTime": {
     "end_time": "2024-12-04T13:42:03.116450Z",
     "start_time": "2024-12-04T13:42:03.102657Z"
    }
   },
   "cell_type": "code",
   "source": "genome_scores.head()",
   "id": "9a66fbe92c4ca995",
   "outputs": [
    {
     "data": {
      "text/plain": [
       "   movieId  tagId  relevance\n",
       "0        1      1      0.025\n",
       "1        1      2      0.025\n",
       "2        1      3      0.058\n",
       "3        1      4      0.097\n",
       "4        1      5      0.147"
      ],
      "text/html": [
       "<div>\n",
       "<style scoped>\n",
       "    .dataframe tbody tr th:only-of-type {\n",
       "        vertical-align: middle;\n",
       "    }\n",
       "\n",
       "    .dataframe tbody tr th {\n",
       "        vertical-align: top;\n",
       "    }\n",
       "\n",
       "    .dataframe thead th {\n",
       "        text-align: right;\n",
       "    }\n",
       "</style>\n",
       "<table border=\"1\" class=\"dataframe\">\n",
       "  <thead>\n",
       "    <tr style=\"text-align: right;\">\n",
       "      <th></th>\n",
       "      <th>movieId</th>\n",
       "      <th>tagId</th>\n",
       "      <th>relevance</th>\n",
       "    </tr>\n",
       "  </thead>\n",
       "  <tbody>\n",
       "    <tr>\n",
       "      <th>0</th>\n",
       "      <td>1</td>\n",
       "      <td>1</td>\n",
       "      <td>0.025</td>\n",
       "    </tr>\n",
       "    <tr>\n",
       "      <th>1</th>\n",
       "      <td>1</td>\n",
       "      <td>2</td>\n",
       "      <td>0.025</td>\n",
       "    </tr>\n",
       "    <tr>\n",
       "      <th>2</th>\n",
       "      <td>1</td>\n",
       "      <td>3</td>\n",
       "      <td>0.058</td>\n",
       "    </tr>\n",
       "    <tr>\n",
       "      <th>3</th>\n",
       "      <td>1</td>\n",
       "      <td>4</td>\n",
       "      <td>0.097</td>\n",
       "    </tr>\n",
       "    <tr>\n",
       "      <th>4</th>\n",
       "      <td>1</td>\n",
       "      <td>5</td>\n",
       "      <td>0.147</td>\n",
       "    </tr>\n",
       "  </tbody>\n",
       "</table>\n",
       "</div>"
      ]
     },
     "execution_count": 12,
     "metadata": {},
     "output_type": "execute_result"
    }
   ],
   "execution_count": 12
  },
  {
   "metadata": {
    "ExecuteTime": {
     "end_time": "2024-12-04T13:42:12.841391Z",
     "start_time": "2024-12-04T13:42:12.827605Z"
    }
   },
   "cell_type": "code",
   "source": "genome_tags.head()",
   "id": "e33242939f383eb9",
   "outputs": [
    {
     "data": {
      "text/plain": [
       "   tagId           tag\n",
       "0      1           007\n",
       "1      2  007 (series)\n",
       "2      3  18th century\n",
       "3      4         1920s\n",
       "4      5         1930s"
      ],
      "text/html": [
       "<div>\n",
       "<style scoped>\n",
       "    .dataframe tbody tr th:only-of-type {\n",
       "        vertical-align: middle;\n",
       "    }\n",
       "\n",
       "    .dataframe tbody tr th {\n",
       "        vertical-align: top;\n",
       "    }\n",
       "\n",
       "    .dataframe thead th {\n",
       "        text-align: right;\n",
       "    }\n",
       "</style>\n",
       "<table border=\"1\" class=\"dataframe\">\n",
       "  <thead>\n",
       "    <tr style=\"text-align: right;\">\n",
       "      <th></th>\n",
       "      <th>tagId</th>\n",
       "      <th>tag</th>\n",
       "    </tr>\n",
       "  </thead>\n",
       "  <tbody>\n",
       "    <tr>\n",
       "      <th>0</th>\n",
       "      <td>1</td>\n",
       "      <td>007</td>\n",
       "    </tr>\n",
       "    <tr>\n",
       "      <th>1</th>\n",
       "      <td>2</td>\n",
       "      <td>007 (series)</td>\n",
       "    </tr>\n",
       "    <tr>\n",
       "      <th>2</th>\n",
       "      <td>3</td>\n",
       "      <td>18th century</td>\n",
       "    </tr>\n",
       "    <tr>\n",
       "      <th>3</th>\n",
       "      <td>4</td>\n",
       "      <td>1920s</td>\n",
       "    </tr>\n",
       "    <tr>\n",
       "      <th>4</th>\n",
       "      <td>5</td>\n",
       "      <td>1930s</td>\n",
       "    </tr>\n",
       "  </tbody>\n",
       "</table>\n",
       "</div>"
      ]
     },
     "execution_count": 13,
     "metadata": {},
     "output_type": "execute_result"
    }
   ],
   "execution_count": 13
  },
  {
   "metadata": {
    "ExecuteTime": {
     "end_time": "2024-12-04T14:32:34.446273Z",
     "start_time": "2024-12-04T14:32:34.352085Z"
    }
   },
   "cell_type": "code",
   "source": [
    "print(\"rating:\", rating.columns)\n",
    "print(\"links:\", link.columns)\n",
    "print(\"genome_tags:\", genome_tags.columns)\n",
    "print(\"genome_scores:\", genome_scores.columns)\n",
    "print(\"tags:\", tag.columns)\n",
    "print(\"movies:\", movie.columns)"
   ],
   "id": "b55ebdb50408dfc3",
   "outputs": [
    {
     "name": "stdout",
     "output_type": "stream",
     "text": [
      "rating: Index(['userId', 'movieId', 'rating', 'timestamp'], dtype='object')\n",
      "links: Index(['movieId', 'imdbId', 'tmdbId'], dtype='object')\n",
      "genome_tags: Index(['tagId', 'tag'], dtype='object')\n",
      "genome_scores: Index(['movieId', 'tagId', 'relevance'], dtype='object')\n",
      "tags: Index(['userId', 'movieId', 'tag', 'timestamp'], dtype='object')\n",
      "movies: Index(['movieId', 'title', 'genres'], dtype='object')\n"
     ]
    }
   ],
   "execution_count": 15
  },
  {
   "metadata": {},
   "cell_type": "code",
   "outputs": [],
   "execution_count": null,
   "source": "",
   "id": "cc05d0b0afee810c"
  },
  {
   "metadata": {},
   "cell_type": "markdown",
   "source": [
    "## 2. Grouping Movies Together! \n",
    "In this section, you will explore clustering algorithms to group the movies you have based on specific features you choose to consider for them."
   ],
   "id": "f403cab22730579d"
  },
  {
   "metadata": {},
   "cell_type": "markdown",
   "source": [
    "### 2.1 Feature Engineering \n",
    "As you know, the dataset provided isn’t particularly clean or well-structured to represent the features of the movies. Therefore, your first step is to create a more suitable set of attributes (variables, features, covariates) to represent the movies based on the available information. Here are some variables or features you might consider for clustering:\n",
    "\n",
    "1. ```movieid``` id of each movie \n",
    "2. ```genres``` list of genres attached to the movie (given that a movie may have several genres, it’s essential to devise a method to accurately represent the genres for each movie)\n",
    "3. ```ratings_avg``` the average ratings provided by users for the movie\n",
    "4. ```relevant_genome_tag``` the most relevant tag to the movie given in the genome set\n",
    "5. ```common_user_tag``` the most common tag given to the movie by the users \n",
    "\n",
    "In addition to the above features, include **at least three additional** features for clustering.\n",
    "\n",
    "__Note__: If you have accurately identified and applied the methods for representing the features, you should have __more than eight features__! How could this happen? Take a moment to think about it."
   ],
   "id": "6f51530225f81f6b"
  },
  {
   "metadata": {},
   "cell_type": "code",
   "outputs": [],
   "execution_count": null,
   "source": "",
   "id": "7445bc3ba9bb7d0a"
  },
  {
   "metadata": {},
   "cell_type": "markdown",
   "source": "# 3. Bonus Question\n",
   "id": "8c50d967e6b10847"
  },
  {
   "metadata": {},
   "cell_type": "code",
   "outputs": [],
   "execution_count": null,
   "source": "",
   "id": "ccd4ec09e740345f"
  },
  {
   "metadata": {},
   "cell_type": "markdown",
   "source": "# 4. Algorithmic Question\n",
   "id": "b5552ced2ea78c37"
  },
  {
   "metadata": {},
   "cell_type": "code",
   "outputs": [],
   "execution_count": null,
   "source": "",
   "id": "15a17ef8e11bf24e"
  }
 ],
 "metadata": {
  "kernelspec": {
   "display_name": "Python 3",
   "language": "python",
   "name": "python3"
  },
  "language_info": {
   "codemirror_mode": {
    "name": "ipython",
    "version": 2
   },
   "file_extension": ".py",
   "mimetype": "text/x-python",
   "name": "python",
   "nbconvert_exporter": "python",
   "pygments_lexer": "ipython2",
   "version": "2.7.6"
  }
 },
 "nbformat": 4,
 "nbformat_minor": 5
}
