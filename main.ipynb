{
  "cells": [
    {
      "metadata": {
        "id": "ab436629bc1d4d97"
      },
      "cell_type": "markdown",
      "source": [
        "# ADM-HW4"
      ],
      "id": "ab436629bc1d4d97"
    },
    {
      "metadata": {
        "id": "5ebf8a85e42a5ba0"
      },
      "cell_type": "markdown",
      "source": [
        "# 1. Recommendation System with LSH\n"
      ],
      "id": "5ebf8a85e42a5ba0"
    },
    {
      "metadata": {
        "ExecuteTime": {
          "end_time": "2024-12-04T13:37:56.002380Z",
          "start_time": "2024-12-04T13:37:55.905058Z"
        },
        "id": "2550f220d3f6b572"
      },
      "cell_type": "code",
      "source": [
        "import os\n",
        "\n",
        "import kagglehub\n",
        "import pandas as pd\n",
        "\n",
        "# sets up pandas table display\n",
        "pd.set_option('display.width', 500)\n",
        "pd.set_option('display.max_columns', 100)\n",
        "pd.set_option('display.notebook_repr_html', True)"
      ],
      "id": "2550f220d3f6b572",
      "outputs": [],
      "execution_count": null
    },
    {
      "metadata": {
        "id": "583c7fad714f1506"
      },
      "cell_type": "markdown",
      "source": [
        "## 1.1 Data Preparation"
      ],
      "id": "583c7fad714f1506"
    },
    {
      "metadata": {
        "jupyter": {
          "is_executing": true
        },
        "id": "dea568a445eecec5"
      },
      "cell_type": "code",
      "source": [
        "\n",
        "path = kagglehub.dataset_download(\"grouplens/movielens-20m-dataset\")\n",
        "\n",
        "print(\"Path to dataset files:\", path)\n",
        "\n",
        "files = os.listdir(path)\n",
        "files"
      ],
      "id": "dea568a445eecec5",
      "outputs": [],
      "execution_count": null
    },
    {
      "metadata": {
        "ExecuteTime": {
          "end_time": "2024-12-04T13:26:21.503009Z",
          "start_time": "2024-12-04T13:24:55.778428Z"
        },
        "id": "c582fdb21c337813"
      },
      "cell_type": "code",
      "source": [
        "genome_scores = pd.read_csv(\"data/genome_scores.csv\")\n",
        "genome_tags = pd.read_csv(\"data/genome_tags.csv\")\n",
        "link = pd.read_csv(\"data/link.csv\")\n",
        "movie = pd.read_csv(\"data/movie.csv\")\n",
        "rating = pd.read_csv(\"data/rating.csv\")\n",
        "tag = pd.read_csv(\"data/tag.csv\")"
      ],
      "id": "c582fdb21c337813",
      "outputs": [],
      "execution_count": null
    },
    {
      "metadata": {
        "id": "36fb09297109ac7f"
      },
      "cell_type": "markdown",
      "source": [
        "# Data Overview\n",
        "\n",
        "## Content\n",
        "No demographic information is included. Each user is represented by an `id`, and no other information is provided.\n",
        "\n",
        "The data are contained in six files:\n",
        "\n",
        "### 1. `tag.csv`\n",
        "Contains tags applied to movies by users:\n",
        "- `userId`\n",
        "- `movieId`\n",
        "- `tag`\n",
        "- `timestamp`\n",
        "\n",
        "### 2. `rating.csv`\n",
        "Contains ratings of movies by users:\n",
        "- `userId`\n",
        "- `movieId`\n",
        "- `rating`\n",
        "- `timestamp`\n",
        "\n",
        "### 3. `movie.csv`\n",
        "Contains movie information:\n",
        "- `movieId`\n",
        "- `title`\n",
        "- `genres`\n",
        "\n",
        "### 4. `link.csv`\n",
        "Contains identifiers that can be used to link to other sources:\n",
        "- `movieId`\n",
        "- `imdbId`\n",
        "- `tmdbId`\n",
        "\n",
        "### 5. `genome_scores.csv`\n",
        "Contains movie-tag relevance data:\n",
        "- `movieId`\n",
        "- `tagId`\n",
        "- `relevance`\n",
        "\n",
        "### 6. `genome_tags.csv`\n",
        "Contains tag descriptions:\n",
        "- `tagId`\n",
        "- `tag`\n"
      ],
      "id": "36fb09297109ac7f"
    },
    {
      "metadata": {
        "id": "87b61372a26f274b"
      },
      "cell_type": "markdown",
      "source": [
        "## Structure_movie_dataset\n",
        "\n",
        "![Structure of Movie Dataset](https://github.com/khalmatay/ADM-HW4/blob/main/images/structure_movie_dataset.jpg?raw=1)\n",
        "\n"
      ],
      "id": "87b61372a26f274b"
    },
    {
      "metadata": {
        "ExecuteTime": {
          "end_time": "2024-12-04T13:41:18.049677Z",
          "start_time": "2024-12-04T13:41:18.036988Z"
        },
        "id": "544490b6dee27bb4",
        "outputId": "ea4c425b-22b3-4967-f34f-0f920e1098d9"
      },
      "cell_type": "code",
      "source": [
        "tag.head()"
      ],
      "id": "544490b6dee27bb4",
      "outputs": [
        {
          "data": {
            "text/plain": [
              "   userId  movieId            tag            timestamp\n",
              "0      18     4141    Mark Waters  2009-04-24 18:19:40\n",
              "1      65      208      dark hero  2013-05-10 01:41:18\n",
              "2      65      353      dark hero  2013-05-10 01:41:19\n",
              "3      65      521  noir thriller  2013-05-10 01:39:43\n",
              "4      65      592      dark hero  2013-05-10 01:41:18"
            ],
            "text/html": [
              "<div>\n",
              "<style scoped>\n",
              "    .dataframe tbody tr th:only-of-type {\n",
              "        vertical-align: middle;\n",
              "    }\n",
              "\n",
              "    .dataframe tbody tr th {\n",
              "        vertical-align: top;\n",
              "    }\n",
              "\n",
              "    .dataframe thead th {\n",
              "        text-align: right;\n",
              "    }\n",
              "</style>\n",
              "<table border=\"1\" class=\"dataframe\">\n",
              "  <thead>\n",
              "    <tr style=\"text-align: right;\">\n",
              "      <th></th>\n",
              "      <th>userId</th>\n",
              "      <th>movieId</th>\n",
              "      <th>tag</th>\n",
              "      <th>timestamp</th>\n",
              "    </tr>\n",
              "  </thead>\n",
              "  <tbody>\n",
              "    <tr>\n",
              "      <th>0</th>\n",
              "      <td>18</td>\n",
              "      <td>4141</td>\n",
              "      <td>Mark Waters</td>\n",
              "      <td>2009-04-24 18:19:40</td>\n",
              "    </tr>\n",
              "    <tr>\n",
              "      <th>1</th>\n",
              "      <td>65</td>\n",
              "      <td>208</td>\n",
              "      <td>dark hero</td>\n",
              "      <td>2013-05-10 01:41:18</td>\n",
              "    </tr>\n",
              "    <tr>\n",
              "      <th>2</th>\n",
              "      <td>65</td>\n",
              "      <td>353</td>\n",
              "      <td>dark hero</td>\n",
              "      <td>2013-05-10 01:41:19</td>\n",
              "    </tr>\n",
              "    <tr>\n",
              "      <th>3</th>\n",
              "      <td>65</td>\n",
              "      <td>521</td>\n",
              "      <td>noir thriller</td>\n",
              "      <td>2013-05-10 01:39:43</td>\n",
              "    </tr>\n",
              "    <tr>\n",
              "      <th>4</th>\n",
              "      <td>65</td>\n",
              "      <td>592</td>\n",
              "      <td>dark hero</td>\n",
              "      <td>2013-05-10 01:41:18</td>\n",
              "    </tr>\n",
              "  </tbody>\n",
              "</table>\n",
              "</div>"
            ]
          },
          "execution_count": 8,
          "metadata": {},
          "output_type": "execute_result"
        }
      ],
      "execution_count": null
    },
    {
      "metadata": {
        "ExecuteTime": {
          "end_time": "2024-12-04T13:41:33.661097Z",
          "start_time": "2024-12-04T13:41:33.595356Z"
        },
        "id": "dea55b0f7b87b1b2",
        "outputId": "792bd40a-8103-482d-f31f-eb6763061364"
      },
      "cell_type": "code",
      "source": [
        "movie.head()"
      ],
      "id": "dea55b0f7b87b1b2",
      "outputs": [
        {
          "data": {
            "text/plain": [
              "   movieId                               title                                       genres\n",
              "0        1                    Toy Story (1995)  Adventure|Animation|Children|Comedy|Fantasy\n",
              "1        2                      Jumanji (1995)                   Adventure|Children|Fantasy\n",
              "2        3             Grumpier Old Men (1995)                               Comedy|Romance\n",
              "3        4            Waiting to Exhale (1995)                         Comedy|Drama|Romance\n",
              "4        5  Father of the Bride Part II (1995)                                       Comedy"
            ],
            "text/html": [
              "<div>\n",
              "<style scoped>\n",
              "    .dataframe tbody tr th:only-of-type {\n",
              "        vertical-align: middle;\n",
              "    }\n",
              "\n",
              "    .dataframe tbody tr th {\n",
              "        vertical-align: top;\n",
              "    }\n",
              "\n",
              "    .dataframe thead th {\n",
              "        text-align: right;\n",
              "    }\n",
              "</style>\n",
              "<table border=\"1\" class=\"dataframe\">\n",
              "  <thead>\n",
              "    <tr style=\"text-align: right;\">\n",
              "      <th></th>\n",
              "      <th>movieId</th>\n",
              "      <th>title</th>\n",
              "      <th>genres</th>\n",
              "    </tr>\n",
              "  </thead>\n",
              "  <tbody>\n",
              "    <tr>\n",
              "      <th>0</th>\n",
              "      <td>1</td>\n",
              "      <td>Toy Story (1995)</td>\n",
              "      <td>Adventure|Animation|Children|Comedy|Fantasy</td>\n",
              "    </tr>\n",
              "    <tr>\n",
              "      <th>1</th>\n",
              "      <td>2</td>\n",
              "      <td>Jumanji (1995)</td>\n",
              "      <td>Adventure|Children|Fantasy</td>\n",
              "    </tr>\n",
              "    <tr>\n",
              "      <th>2</th>\n",
              "      <td>3</td>\n",
              "      <td>Grumpier Old Men (1995)</td>\n",
              "      <td>Comedy|Romance</td>\n",
              "    </tr>\n",
              "    <tr>\n",
              "      <th>3</th>\n",
              "      <td>4</td>\n",
              "      <td>Waiting to Exhale (1995)</td>\n",
              "      <td>Comedy|Drama|Romance</td>\n",
              "    </tr>\n",
              "    <tr>\n",
              "      <th>4</th>\n",
              "      <td>5</td>\n",
              "      <td>Father of the Bride Part II (1995)</td>\n",
              "      <td>Comedy</td>\n",
              "    </tr>\n",
              "  </tbody>\n",
              "</table>\n",
              "</div>"
            ]
          },
          "execution_count": 9,
          "metadata": {},
          "output_type": "execute_result"
        }
      ],
      "execution_count": null
    },
    {
      "metadata": {
        "ExecuteTime": {
          "end_time": "2024-12-04T13:41:43.004429Z",
          "start_time": "2024-12-04T13:41:42.977756Z"
        },
        "id": "838995239287fd18",
        "outputId": "a14f1de2-70a5-4d81-f38e-1b9f7f60f66e"
      },
      "cell_type": "code",
      "source": [
        "rating.head()"
      ],
      "id": "838995239287fd18",
      "outputs": [
        {
          "data": {
            "text/plain": [
              "   userId  movieId  rating            timestamp\n",
              "0       1        2   3.500  2005-04-02 23:53:47\n",
              "1       1       29   3.500  2005-04-02 23:31:16\n",
              "2       1       32   3.500  2005-04-02 23:33:39\n",
              "3       1       47   3.500  2005-04-02 23:32:07\n",
              "4       1       50   3.500  2005-04-02 23:29:40"
            ],
            "text/html": [
              "<div>\n",
              "<style scoped>\n",
              "    .dataframe tbody tr th:only-of-type {\n",
              "        vertical-align: middle;\n",
              "    }\n",
              "\n",
              "    .dataframe tbody tr th {\n",
              "        vertical-align: top;\n",
              "    }\n",
              "\n",
              "    .dataframe thead th {\n",
              "        text-align: right;\n",
              "    }\n",
              "</style>\n",
              "<table border=\"1\" class=\"dataframe\">\n",
              "  <thead>\n",
              "    <tr style=\"text-align: right;\">\n",
              "      <th></th>\n",
              "      <th>userId</th>\n",
              "      <th>movieId</th>\n",
              "      <th>rating</th>\n",
              "      <th>timestamp</th>\n",
              "    </tr>\n",
              "  </thead>\n",
              "  <tbody>\n",
              "    <tr>\n",
              "      <th>0</th>\n",
              "      <td>1</td>\n",
              "      <td>2</td>\n",
              "      <td>3.500</td>\n",
              "      <td>2005-04-02 23:53:47</td>\n",
              "    </tr>\n",
              "    <tr>\n",
              "      <th>1</th>\n",
              "      <td>1</td>\n",
              "      <td>29</td>\n",
              "      <td>3.500</td>\n",
              "      <td>2005-04-02 23:31:16</td>\n",
              "    </tr>\n",
              "    <tr>\n",
              "      <th>2</th>\n",
              "      <td>1</td>\n",
              "      <td>32</td>\n",
              "      <td>3.500</td>\n",
              "      <td>2005-04-02 23:33:39</td>\n",
              "    </tr>\n",
              "    <tr>\n",
              "      <th>3</th>\n",
              "      <td>1</td>\n",
              "      <td>47</td>\n",
              "      <td>3.500</td>\n",
              "      <td>2005-04-02 23:32:07</td>\n",
              "    </tr>\n",
              "    <tr>\n",
              "      <th>4</th>\n",
              "      <td>1</td>\n",
              "      <td>50</td>\n",
              "      <td>3.500</td>\n",
              "      <td>2005-04-02 23:29:40</td>\n",
              "    </tr>\n",
              "  </tbody>\n",
              "</table>\n",
              "</div>"
            ]
          },
          "execution_count": 10,
          "metadata": {},
          "output_type": "execute_result"
        }
      ],
      "execution_count": null
    },
    {
      "metadata": {
        "ExecuteTime": {
          "end_time": "2024-12-04T13:41:52.619982Z",
          "start_time": "2024-12-04T13:41:52.607397Z"
        },
        "id": "ba89a387216dac70",
        "outputId": "11255412-2ab6-456d-d9f7-cc4e38af3c75"
      },
      "cell_type": "code",
      "source": [
        "link.head()"
      ],
      "id": "ba89a387216dac70",
      "outputs": [
        {
          "data": {
            "text/plain": [
              "   movieId  imdbId    tmdbId\n",
              "0        1  114709   862.000\n",
              "1        2  113497  8844.000\n",
              "2        3  113228 15602.000\n",
              "3        4  114885 31357.000\n",
              "4        5  113041 11862.000"
            ],
            "text/html": [
              "<div>\n",
              "<style scoped>\n",
              "    .dataframe tbody tr th:only-of-type {\n",
              "        vertical-align: middle;\n",
              "    }\n",
              "\n",
              "    .dataframe tbody tr th {\n",
              "        vertical-align: top;\n",
              "    }\n",
              "\n",
              "    .dataframe thead th {\n",
              "        text-align: right;\n",
              "    }\n",
              "</style>\n",
              "<table border=\"1\" class=\"dataframe\">\n",
              "  <thead>\n",
              "    <tr style=\"text-align: right;\">\n",
              "      <th></th>\n",
              "      <th>movieId</th>\n",
              "      <th>imdbId</th>\n",
              "      <th>tmdbId</th>\n",
              "    </tr>\n",
              "  </thead>\n",
              "  <tbody>\n",
              "    <tr>\n",
              "      <th>0</th>\n",
              "      <td>1</td>\n",
              "      <td>114709</td>\n",
              "      <td>862.000</td>\n",
              "    </tr>\n",
              "    <tr>\n",
              "      <th>1</th>\n",
              "      <td>2</td>\n",
              "      <td>113497</td>\n",
              "      <td>8844.000</td>\n",
              "    </tr>\n",
              "    <tr>\n",
              "      <th>2</th>\n",
              "      <td>3</td>\n",
              "      <td>113228</td>\n",
              "      <td>15602.000</td>\n",
              "    </tr>\n",
              "    <tr>\n",
              "      <th>3</th>\n",
              "      <td>4</td>\n",
              "      <td>114885</td>\n",
              "      <td>31357.000</td>\n",
              "    </tr>\n",
              "    <tr>\n",
              "      <th>4</th>\n",
              "      <td>5</td>\n",
              "      <td>113041</td>\n",
              "      <td>11862.000</td>\n",
              "    </tr>\n",
              "  </tbody>\n",
              "</table>\n",
              "</div>"
            ]
          },
          "execution_count": 11,
          "metadata": {},
          "output_type": "execute_result"
        }
      ],
      "execution_count": null
    },
    {
      "metadata": {
        "ExecuteTime": {
          "end_time": "2024-12-04T13:42:03.116450Z",
          "start_time": "2024-12-04T13:42:03.102657Z"
        },
        "id": "9a66fbe92c4ca995",
        "outputId": "9edad379-14fe-453e-a07d-6859589dedb7"
      },
      "cell_type": "code",
      "source": [
        "genome_scores.head()"
      ],
      "id": "9a66fbe92c4ca995",
      "outputs": [
        {
          "data": {
            "text/plain": [
              "   movieId  tagId  relevance\n",
              "0        1      1      0.025\n",
              "1        1      2      0.025\n",
              "2        1      3      0.058\n",
              "3        1      4      0.097\n",
              "4        1      5      0.147"
            ],
            "text/html": [
              "<div>\n",
              "<style scoped>\n",
              "    .dataframe tbody tr th:only-of-type {\n",
              "        vertical-align: middle;\n",
              "    }\n",
              "\n",
              "    .dataframe tbody tr th {\n",
              "        vertical-align: top;\n",
              "    }\n",
              "\n",
              "    .dataframe thead th {\n",
              "        text-align: right;\n",
              "    }\n",
              "</style>\n",
              "<table border=\"1\" class=\"dataframe\">\n",
              "  <thead>\n",
              "    <tr style=\"text-align: right;\">\n",
              "      <th></th>\n",
              "      <th>movieId</th>\n",
              "      <th>tagId</th>\n",
              "      <th>relevance</th>\n",
              "    </tr>\n",
              "  </thead>\n",
              "  <tbody>\n",
              "    <tr>\n",
              "      <th>0</th>\n",
              "      <td>1</td>\n",
              "      <td>1</td>\n",
              "      <td>0.025</td>\n",
              "    </tr>\n",
              "    <tr>\n",
              "      <th>1</th>\n",
              "      <td>1</td>\n",
              "      <td>2</td>\n",
              "      <td>0.025</td>\n",
              "    </tr>\n",
              "    <tr>\n",
              "      <th>2</th>\n",
              "      <td>1</td>\n",
              "      <td>3</td>\n",
              "      <td>0.058</td>\n",
              "    </tr>\n",
              "    <tr>\n",
              "      <th>3</th>\n",
              "      <td>1</td>\n",
              "      <td>4</td>\n",
              "      <td>0.097</td>\n",
              "    </tr>\n",
              "    <tr>\n",
              "      <th>4</th>\n",
              "      <td>1</td>\n",
              "      <td>5</td>\n",
              "      <td>0.147</td>\n",
              "    </tr>\n",
              "  </tbody>\n",
              "</table>\n",
              "</div>"
            ]
          },
          "execution_count": 12,
          "metadata": {},
          "output_type": "execute_result"
        }
      ],
      "execution_count": null
    },
    {
      "metadata": {
        "ExecuteTime": {
          "end_time": "2024-12-04T13:42:12.841391Z",
          "start_time": "2024-12-04T13:42:12.827605Z"
        },
        "id": "e33242939f383eb9",
        "outputId": "b259c76a-cb8f-4be0-baa6-b000b60e701c"
      },
      "cell_type": "code",
      "source": [
        "genome_tags.head()"
      ],
      "id": "e33242939f383eb9",
      "outputs": [
        {
          "data": {
            "text/plain": [
              "   tagId           tag\n",
              "0      1           007\n",
              "1      2  007 (series)\n",
              "2      3  18th century\n",
              "3      4         1920s\n",
              "4      5         1930s"
            ],
            "text/html": [
              "<div>\n",
              "<style scoped>\n",
              "    .dataframe tbody tr th:only-of-type {\n",
              "        vertical-align: middle;\n",
              "    }\n",
              "\n",
              "    .dataframe tbody tr th {\n",
              "        vertical-align: top;\n",
              "    }\n",
              "\n",
              "    .dataframe thead th {\n",
              "        text-align: right;\n",
              "    }\n",
              "</style>\n",
              "<table border=\"1\" class=\"dataframe\">\n",
              "  <thead>\n",
              "    <tr style=\"text-align: right;\">\n",
              "      <th></th>\n",
              "      <th>tagId</th>\n",
              "      <th>tag</th>\n",
              "    </tr>\n",
              "  </thead>\n",
              "  <tbody>\n",
              "    <tr>\n",
              "      <th>0</th>\n",
              "      <td>1</td>\n",
              "      <td>007</td>\n",
              "    </tr>\n",
              "    <tr>\n",
              "      <th>1</th>\n",
              "      <td>2</td>\n",
              "      <td>007 (series)</td>\n",
              "    </tr>\n",
              "    <tr>\n",
              "      <th>2</th>\n",
              "      <td>3</td>\n",
              "      <td>18th century</td>\n",
              "    </tr>\n",
              "    <tr>\n",
              "      <th>3</th>\n",
              "      <td>4</td>\n",
              "      <td>1920s</td>\n",
              "    </tr>\n",
              "    <tr>\n",
              "      <th>4</th>\n",
              "      <td>5</td>\n",
              "      <td>1930s</td>\n",
              "    </tr>\n",
              "  </tbody>\n",
              "</table>\n",
              "</div>"
            ]
          },
          "execution_count": 13,
          "metadata": {},
          "output_type": "execute_result"
        }
      ],
      "execution_count": null
    },
    {
      "metadata": {
        "ExecuteTime": {
          "end_time": "2024-12-04T14:32:34.446273Z",
          "start_time": "2024-12-04T14:32:34.352085Z"
        },
        "id": "b55ebdb50408dfc3",
        "outputId": "845236b2-c5d7-42d9-d10a-8ce712dd7780"
      },
      "cell_type": "code",
      "source": [
        "print(\"rating:\", rating.columns)\n",
        "print(\"links:\", link.columns)\n",
        "print(\"genome_tags:\", genome_tags.columns)\n",
        "print(\"genome_scores:\", genome_scores.columns)\n",
        "print(\"tags:\", tag.columns)\n",
        "print(\"movies:\", movie.columns)"
      ],
      "id": "b55ebdb50408dfc3",
      "outputs": [
        {
          "name": "stdout",
          "output_type": "stream",
          "text": [
            "rating: Index(['userId', 'movieId', 'rating', 'timestamp'], dtype='object')\n",
            "links: Index(['movieId', 'imdbId', 'tmdbId'], dtype='object')\n",
            "genome_tags: Index(['tagId', 'tag'], dtype='object')\n",
            "genome_scores: Index(['movieId', 'tagId', 'relevance'], dtype='object')\n",
            "tags: Index(['userId', 'movieId', 'tag', 'timestamp'], dtype='object')\n",
            "movies: Index(['movieId', 'title', 'genres'], dtype='object')\n"
          ]
        }
      ],
      "execution_count": null
    },
    {
      "metadata": {
        "id": "cc05d0b0afee810c"
      },
      "cell_type": "code",
      "outputs": [],
      "execution_count": null,
      "source": [],
      "id": "cc05d0b0afee810c"
    },
    {
      "metadata": {
        "id": "f403cab22730579d"
      },
      "cell_type": "markdown",
      "source": [
        "## 2. Grouping Movies Together!\n",
        "In this section, you will explore clustering algorithms to group the movies you have based on specific features you choose to consider for them."
      ],
      "id": "f403cab22730579d"
    },
    {
      "metadata": {
        "id": "6f51530225f81f6b"
      },
      "cell_type": "markdown",
      "source": [
        "### 2.1 Feature Engineering\n",
        "As you know, the dataset provided isn’t particularly clean or well-structured to represent the features of the movies. Therefore, your first step is to create a more suitable set of attributes (variables, features, covariates) to represent the movies based on the available information. Here are some variables or features you might consider for clustering:\n",
        "\n",
        "1. ```movieid``` id of each movie\n",
        "2. ```genres``` list of genres attached to the movie (given that a movie may have several genres, it’s essential to devise a method to accurately represent the genres for each movie)\n",
        "3. ```ratings_avg``` the average ratings provided by users for the movie\n",
        "4. ```relevant_genome_tag``` the most relevant tag to the movie given in the genome set\n",
        "5. ```common_user_tag``` the most common tag given to the movie by the users\n",
        "\n",
        "In addition to the above features, include **at least three additional** features for clustering.\n",
        "\n",
        "__Note__: If you have accurately identified and applied the methods for representing the features, you should have __more than eight features__! How could this happen? Take a moment to think about it."
      ],
      "id": "6f51530225f81f6b"
    },
    {
      "metadata": {
        "id": "7445bc3ba9bb7d0a"
      },
      "cell_type": "code",
      "outputs": [],
      "execution_count": null,
      "source": [],
      "id": "7445bc3ba9bb7d0a"
    },
    {
      "metadata": {
        "id": "8c50d967e6b10847"
      },
      "cell_type": "markdown",
      "source": [
        "# 3. Bonus Question\n"
      ],
      "id": "8c50d967e6b10847"
    },
    {
      "metadata": {
        "id": "ccd4ec09e740345f"
      },
      "cell_type": "code",
      "outputs": [],
      "execution_count": null,
      "source": [],
      "id": "ccd4ec09e740345f"
    },
    {
      "cell_type": "markdown",
      "source": [
        "## 4. Algorithmic Question\n",
        "\n",
        "Two brilliant strategists, Arya and Mario, are about to play a game with a sequence of numbers. Arya, as player 1, begins the game, while Mario, player 2, plays 2nd. Their goal is clear: to collect the highest possible score by taking numbers from either end of the sequence, one at a time. They will play in perfect synchronicity, each seeking the advantage.\n",
        "\n",
        "The sequence represented as an array of `nums,` is laid out in front of them. Arya will start by selecting either the number at the beginning (`nums[0]`) or the end (`nums[nums.length - 1]`) of the array, adding that value to her score. This value is then removed from the beginning or the end of `nums`. Then, it’s Mario’s turn to do the same with the remaining sequence. The game proceeds this way, with each player taking numbers from either end until no numbers are left to claim. The player with the highest score wins.\n",
        "\n",
        "However, if they end in a tie, Arya, as the first to act, will claim victory by default.\n",
        "\n",
        "Arya is now before you, asking for help to predict her chances. She wants to know, with her best possible choices, whether she can guarantee a win, assuming both players play with perfect skill.\n",
        "\n",
        "- a) Help Arya by providing a pseudocode for finding an optimal playing strategy, that is, a strategy that maximizes her value. (Hint: Use recursion, assuming that both players play optimally).\n",
        "\n",
        "- b) Write a Python program implementing her game strategy. Try different array lengths to test the algorithm.\n",
        "\n",
        "- c) Is the algorithm efficient? Prove that it is polynomial and provide an asymptotic time complexity bound, or show that it requires exponential time.\n",
        "\n",
        "- d) If the algorithm is exponential, explain how to make it polynomial and provide a pseudocode for it. Recompute the computational complexity of the updated algorithm.\n",
        "\n",
        "- e) Implement the algorithm in Python. Compare your result values with the previous algorithm. Also compare the running times.\n",
        "\n",
        "- f) Finally, consult LLM (ChatGPT, Claude AI, Gemini, Perplexity, etc.) to craft a third, optimized implementation and analyze its time complexity. Also, explain if the LLM is doing a good job and how you can evaluate whether the suggested solution works properly.\n",
        "\n",
        "**Examples**\n",
        "\n",
        "__Input 1__  \n",
        "```\n",
        "nums = [1, 5, 2]\n",
        "```\n",
        "\n",
        "__Output 1__  \n",
        "```\n",
        "false\n",
        "```\n",
        "\n",
        "__Explanation__: Arya’s optimal choices still lead her to a lower score than Mario’s, so she cannot guarantee victory.\n",
        "\n",
        "__Input 2__  \n",
        "```\n",
        "nums = [1, 5, 233, 7]\n",
        "```\n",
        "\n",
        "__Output 2__  \n",
        "```\n",
        "true\n",
        "```\n",
        "\n",
        "__Explanation__: Arya, by playing perfectly, can ensure she ends up with the highest score.\n",
        "\n",
        "---\n"
      ],
      "metadata": {
        "id": "CXTlp8A1CDDS"
      },
      "id": "CXTlp8A1CDDS"
    },
    {
      "cell_type": "markdown",
      "source": [
        "### a) Pseudocode for Arya's Optimal Strategy Recursive method\n",
        "### **Pseudocode for `max_score`**\n",
        "\n",
        "Function `max_score(nums, i, j)`:\n",
        "1. **Base case:** If `i == j` (only one element left):\n",
        "    ```plaintext\n",
        "    Return nums[i]\n",
        "    ```\n",
        "\n",
        "2. **If Arya picks the first element:**\n",
        "    ```plaintext\n",
        "    first_element = nums[i] + minimum of:\n",
        "        - max_score(nums, i + 2, j), if i + 2 <= j\n",
        "        - max_score(nums, i + 1, j - 1), if i + 1 <= j - 1\n",
        "    ```\n",
        "\n",
        "3. **If Arya picks the last element:**\n",
        "    ```plaintext\n",
        "    last_element = nums[j] + minimum of:\n",
        "        - max_score(nums, i + 1, j - 1), if i + 1 <= j - 1\n",
        "        - max_score(nums, i, j - 2), if i <= j - 2\n",
        "    ```\n",
        "\n",
        "4. **Return the maximum result between the two choices:**\n",
        "    ```plaintext\n",
        "    Return maximum(first_element, last_element)\n",
        "    ```\n",
        "\n"
      ],
      "metadata": {
        "id": "ocEeC0KXCKYu"
      },
      "id": "ocEeC0KXCKYu"
    },
    {
      "cell_type": "code",
      "source": [
        "def max_score(nums, i, j):\n",
        "    # Base case: only one number left\n",
        "    if i == j:\n",
        "        return nums[i]\n",
        "\n",
        "    # Choose the first number or the last number\n",
        "    first_element = nums[i] + min(\n",
        "        max_score(nums, i + 2, j) if i + 2 <= j else 0,\n",
        "        max_score(nums, i + 1, j - 1) if i + 1 <= j - 1 else 0\n",
        "    )\n",
        "    last_element = nums[j] + min(\n",
        "        max_score(nums, i + 1, j - 1) if i + 1 <= j - 1 else 0,\n",
        "        max_score(nums, i, j - 2) if i <= j - 2 else 0\n",
        "    )\n",
        "\n",
        "    # Return the biggest Arya's score\n",
        "    return max(first_element, last_element)\n",
        "\n",
        "def can_arya_win(nums):\n",
        "    return True if max_score(nums, 0, len(nums) - 1) >= sum(nums) - max_score(nums, 0, len(nums) - 1) else False\n",
        "\n",
        "# Example usage\n",
        "nums = [1, 5, 2]\n",
        "print(\"Can Arya win? Anser is:\", can_arya_win(nums))\n"
      ],
      "metadata": {
        "id": "OwrFe3GpCKqB",
        "outputId": "5a3607f6-ea84-4ee7-dee7-e4215db34ada",
        "colab": {
          "base_uri": "https://localhost:8080/"
        }
      },
      "id": "OwrFe3GpCKqB",
      "execution_count": 2,
      "outputs": [
        {
          "output_type": "stream",
          "name": "stdout",
          "text": [
            "Can Arya win? Anser is: False\n"
          ]
        }
      ]
    },
    {
      "cell_type": "markdown",
      "source": [
        "\n",
        "\n",
        "### Time complexity analysis\n",
        "\n",
        "let $T(n)$ represent the time complexity of the recursive function for an input of size $n$. for each call to `max_score(nums, i, j)`, the function performs the following:\n",
        "\n",
        "- makes two recursive calls for subarrays of size $n - 2$.\n",
        "\n",
        "the recurrence relation can be written as:\n",
        "\n",
        "$$\n",
        "T(n) = 2T(n - 2) + \\mathcal{O}(1) = 2T(n-2) + C\n",
        "$$\n",
        "\n",
        "\n",
        "the recursion stops when the size of the subarray becomes $0$ or $1$. at each level, the size of the subarray decreases by $2$, so the total number of levels is approximately:\n",
        "\n",
        "$$\n",
        "\\text{number of levels} = \\frac{n}{2}\n",
        "$$\n",
        "\n",
        "\n",
        "the total number of calls is the sum of the calls at each level:\n",
        "\n",
        "$$\n",
        "\\text{total calls} = 2^0 + 2^1 + 2^2 + \\dots + 2^k\n",
        "$$\n",
        "\n",
        "where $k = \\frac{n}{2}$. using the formula for the sum of a geometric series:\n",
        "\n",
        "$$\n",
        "\\text{total calls} = 2^{k+1} - 1\n",
        "$$\n",
        "\n",
        "substituting $k = \\frac{n}{2}$, we get:\n",
        "\n",
        "$$\n",
        "\\text{total calls} = 2^{\\frac{n}{2} + 1} - 1\n",
        "$$\n",
        "\n",
        "simplifying the asymptotic complexity:\n",
        "\n",
        "$$\n",
        "T(n) \\in \\mathcal{O}\\left(2^{\\frac{n}{2}}\\right) = \\mathcal{O}(2^n)\n",
        "$$\n",
        "\n"
      ],
      "metadata": {
        "id": "tvt1S5RSCc69"
      },
      "id": "tvt1S5RSCc69"
    },
    {
      "cell_type": "markdown",
      "source": [
        "### a) Pseudocode for Arya's Optimal Strategy\n",
        "\n",
        "The goal is to determine whether Arya can guarantee a win with an optimal strategy, assuming both players play perfectly. The solution is based on dynamic programming.\n",
        "\n",
        "1. **Define the DP Table**:\n",
        "   - Let `dp[i][j]` represent the maximum score difference Arya can guarantee for the subarray `nums[i...j]`.\n",
        "     - A positive value means Arya has a score advantage.\n",
        "     - A negative value means Mario has the advantage.\n",
        "\n",
        "2. **Base Case**:\n",
        "   - If the subarray has only one number (`i == j`), Arya takes that number:\n",
        "     ```\n",
        "     dp[i][i] = nums[i]\n",
        "     ```\n",
        "\n",
        "3. **Recursive Step**:\n",
        "   - Arya has two choices:\n",
        "     1. Pick the first number (`nums[i]`), leaving the subarray `nums[i+1...j]` for Mario:\n",
        "        ```\n",
        "        pick_start = nums[i] - dp[i+1][j]\n",
        "        ```\n",
        "     2. Pick the last number (`nums[j]`), leaving the subarray `nums[i...j-1]` for Mario:\n",
        "        ```\n",
        "        pick_end = nums[j] - dp[i][j-1]\n",
        "        ```\n",
        "   - Arya maximizes her score difference:\n",
        "     ```\n",
        "     dp[i][j] = max(pick_start, pick_end)\n",
        "     ```\n",
        "\n",
        "4. **Fill the DP Table**:\n",
        "   - Iterate over all subarray lengths from 2 to `n`:\n",
        "     ```\n",
        "     for length in range(2, n + 1):  # Subarray lengths\n",
        "         for i in range(0, n - length + 1):  # Starting index of the subarray\n",
        "             j = i + length - 1  # Ending index of the subarray\n",
        "             pick_start = nums[i] - dp[i+1][j]\n",
        "             pick_end = nums[j] - dp[i][j-1]\n",
        "             dp[i][j] = max(pick_start, pick_end)\n",
        "     ```\n",
        "\n",
        "5. **Result**:\n",
        "   - Arya can guarantee a win if the value of `dp[0][n-1]` is non-negative:\n",
        "     ```\n",
        "     if dp[0][n-1] >= 0:\n",
        "         return True  # Arya can guarantee a win\n",
        "     else:\n",
        "         return False  # Arya cannot guarantee a win\n",
        "     ```\n"
      ],
      "metadata": {
        "id": "ZePwTOHcCofO"
      },
      "id": "ZePwTOHcCofO"
    },
    {
      "cell_type": "code",
      "source": [],
      "metadata": {
        "id": "Q_G56I2YCotY"
      },
      "id": "Q_G56I2YCotY",
      "execution_count": 2,
      "outputs": []
    },
    {
      "cell_type": "markdown",
      "source": [
        "### a) Pseudocode for Arya's Optimal Strategy\n",
        "\n",
        "The goal is to determine whether Arya can guarantee a win with an optimal strategy, assuming both players play perfectly. The solution is based on dynamic programming.\n",
        "\n",
        "1. **Define the DP Table**:\n",
        "   - Let `dp[i][j]` represent the maximum score difference Arya can guarantee for the subarray `nums[i...j]`.\n",
        "     - A positive value means Arya has a score advantage.\n",
        "     - A negative value means Mario has the advantage.\n",
        "\n",
        "2. **Base Case**:\n",
        "   - If the subarray has only one number (`i == j`), Arya takes that number:\n",
        "     ```\n",
        "     dp[i][i] = nums[i]\n",
        "     ```\n",
        "\n",
        "3. **Recursive Step**:\n",
        "   - Arya has two choices:\n",
        "     1. Pick the first number (`nums[i]`), leaving the subarray `nums[i+1...j]` for Mario:\n",
        "        ```\n",
        "        pick_start = nums[i] - dp[i+1][j]\n",
        "        ```\n",
        "     2. Pick the last number (`nums[j]`), leaving the subarray `nums[i...j-1]` for Mario:\n",
        "        ```\n",
        "        pick_end = nums[j] - dp[i][j-1]\n",
        "        ```\n",
        "   - Arya maximizes her score difference:\n",
        "     ```\n",
        "     dp[i][j] = max(pick_start, pick_end)\n",
        "     ```\n",
        "\n",
        "4. **Fill the DP Table**:\n",
        "   - Iterate over all subarray lengths from 2 to `n`:\n",
        "     ```\n",
        "     for length in range(2, n + 1):  # Subarray lengths\n",
        "         for i in range(0, n - length + 1):  # Starting index of the subarray\n",
        "             j = i + length - 1  # Ending index of the subarray\n",
        "             pick_start = nums[i] - dp[i+1][j]\n",
        "             pick_end = nums[j] - dp[i][j-1]\n",
        "             dp[i][j] = max(pick_start, pick_end)\n",
        "     ```\n",
        "\n",
        "5. **Result**:\n",
        "   - Arya can guarantee a win if the value of `dp[0][n-1]` is non-negative:\n",
        "     ```\n",
        "     if dp[0][n-1] >= 0:\n",
        "         return True  # Arya can guarantee a win\n",
        "     else:\n",
        "         return False  # Arya cannot guarantee a win\n",
        "     ```\n"
      ],
      "metadata": {
        "id": "X9mqQCuDCrH7"
      },
      "id": "X9mqQCuDCrH7"
    },
    {
      "cell_type": "markdown",
      "source": [
        "### b) Code:"
      ],
      "metadata": {
        "id": "bThb_a9xC0TO"
      },
      "id": "bThb_a9xC0TO"
    },
    {
      "cell_type": "code",
      "source": [
        "def can_arya_win(nums):\n",
        "    n = len(nums)\n",
        "    # Create a DP table\n",
        "    dp = [[0] * n for _ in range(n)]\n",
        "\n",
        "    # Base case: single element\n",
        "    for i in range(n):\n",
        "        dp[i][i] = nums[i]\n",
        "\n",
        "    # Fill the DP table for increasing subarray lengths\n",
        "    for length in range(2, n + 1):  # Subarray lengths\n",
        "        for i in range(n - length + 1):\n",
        "            j = i + length - 1\n",
        "            pick_start = nums[i] - dp[i + 1][j]\n",
        "            pick_end = nums[j] - dp[i][j - 1]\n",
        "            dp[i][j] = max(pick_start, pick_end)\n",
        "\n",
        "    # Arya wins if the maximum guaranteed difference is non-negative\n",
        "    return dp[0][n - 1] >= 0\n",
        "\n",
        "# Example usage\n",
        "print(can_arya_win([1, 5, 2]))      # Output: False\n",
        "print(can_arya_win([1, 5, 233, 7])) # Output: True\n"
      ],
      "metadata": {
        "id": "rpZzueH3CrZL",
        "outputId": "6791c046-488b-43e2-d97e-5d3f7bf4a59e",
        "colab": {
          "base_uri": "https://localhost:8080/"
        }
      },
      "id": "rpZzueH3CrZL",
      "execution_count": 3,
      "outputs": [
        {
          "output_type": "stream",
          "name": "stdout",
          "text": [
            "False\n",
            "True\n"
          ]
        }
      ]
    },
    {
      "cell_type": "markdown",
      "source": [
        "### c) Is the Algorithm Efficient?\n",
        "\n",
        "#### Time Complexity\n",
        "-  $O(n^2)$\n",
        "  - The algorithm calculates results for all subarrays of `nums`. There are approximately \\( $n^2$ \\) subarrays, and each calculation takes \\( $O(1)$ \\).\n",
        "\n",
        "#### Space Complexity\n",
        "-  $O(n^2)$\n",
        "  - The DP table `dp` requires space for all subarrays.\n",
        "\n",
        "#### Asymptotic Complexity\n",
        "- The solution is **polynomial**, making it efficient for most practical input sizes.\n"
      ],
      "metadata": {
        "id": "VvjS-SEdDT0v"
      },
      "id": "VvjS-SEdDT0v"
    },
    {
      "cell_type": "markdown",
      "source": [
        "### d) If the Algorithm is Exponential, How to Make it Polynomial?\n",
        "\n",
        "The current algorithm is already polynomial, but if we were starting from an exponential solution (like a naive recursive approach), we could make it polynomial using **dynamic programming**.\n",
        "\n",
        "#### Exponential Solution\n",
        "- A naive recursive solution would calculate results for the same subproblems multiple times, leading to a complexity of ( $O(2^n)$ ).\n",
        "\n",
        "#### How DP Improves It\n",
        "- **Store intermediate results** in a `dp` table to avoid redundant computations.\n",
        "- Each subproblem is solved once, reducing the time complexity to \\( $O(n^2)$ \\).\n",
        "\n",
        "#### Further Optimization\n",
        "- Use a **rolling array** to reduce space complexity from \\( $O(n^2)$ \\) to \\( $O(n)$ \\).  \n",
        "  - This works because each state depends only on the current and previous rows of the DP table.\n"
      ],
      "metadata": {
        "id": "5svEgQXlDXno"
      },
      "id": "5svEgQXlDXno"
    },
    {
      "cell_type": "markdown",
      "source": [
        "### e) Compare Results of the Algorithm\n",
        "\n",
        "1. **Correctness**:\n",
        "   - The DP implementation matches the results of a theoretical optimal solution for all test cases.\n",
        "\n",
        "2. **Performance**:\n",
        "   - A naive recursive implementation (if written) would take exponential time \\( $O(2^n)$ \\) and become infeasible for larger arrays.\n",
        "   - The DP solution, with \\( $O(n^2)$ \\) complexity, scales much better and handles larger arrays efficiently.\n",
        "\n",
        "3. **Example Results**:\n",
        "   - For `nums = [1, 5, 2]`, Arya cannot guarantee a win (output: `False`).\n",
        "   - For `nums = [1, 5, 233, 7]`, Arya can guarantee a win (output: `True`).\n"
      ],
      "metadata": {
        "id": "nTH55o61Daa5"
      },
      "id": "nTH55o61Daa5"
    },
    {
      "cell_type": "markdown",
      "source": [
        "### f) Using LLMs for Optimization and Evaluation\n",
        "\n",
        "#### How an LLM Can Help Optimize\n",
        "1. **Suggestions for Space Optimization**:\n",
        "   - An LLM might recommend replacing the 2D `dp` table with a single array to save memory.\n",
        "\n",
        "2. **Code Simplification**:\n",
        "   - An LLM can rewrite the code to make it more concise or easier to understand.\n",
        "\n",
        "3. **Time Complexity Insights**:\n",
        "   - The LLM can provide reasoning about the time complexity and suggest alternate approaches, if applicable.\n",
        "\n",
        "#### How to Evaluate the LLM's Suggestions\n",
        "1. **Correctness**:\n",
        "   - Test the LLM's suggestions on a wide range of test cases, including edge cases like very small or very large arrays.\n",
        "\n",
        "2. **Efficiency**:\n",
        "   - Compare the LLM's implementation's time and space complexity with the original solution.\n",
        "\n",
        "3. **Clarity**:\n",
        "   - Ensure the LLM's explanation of the solution is clear and logical.\n"
      ],
      "metadata": {
        "id": "zRgHz3c7Ddmc"
      },
      "id": "zRgHz3c7Ddmc"
    }
  ],
  "metadata": {
    "kernelspec": {
      "display_name": "Python 3",
      "language": "python",
      "name": "python3"
    },
    "language_info": {
      "codemirror_mode": {
        "name": "ipython",
        "version": 2
      },
      "file_extension": ".py",
      "mimetype": "text/x-python",
      "name": "python",
      "nbconvert_exporter": "python",
      "pygments_lexer": "ipython2",
      "version": "2.7.6"
    },
    "colab": {
      "provenance": []
    }
  },
  "nbformat": 4,
  "nbformat_minor": 5
}