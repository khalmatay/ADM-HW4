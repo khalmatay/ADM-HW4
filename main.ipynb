{
 "cells": [
  {
   "metadata": {},
   "cell_type": "markdown",
   "source": "# ADM-HW4",
   "id": "ab436629bc1d4d97"
  },
  {
   "metadata": {},
   "cell_type": "markdown",
   "source": "# 1. Recommendation System with LSH\n",
   "id": "5ebf8a85e42a5ba0"
  },
  {
   "metadata": {
    "ExecuteTime": {
     "end_time": "2024-12-04T13:37:56.002380Z",
     "start_time": "2024-12-04T13:37:55.905058Z"
    }
   },
   "cell_type": "code",
   "source": [
    "import kagglehub\n",
    "import os\n",
    "import pandas as pd\n",
    "\n",
    "\n",
    "\n",
    "# sets up pandas table display\n",
    "pd.set_option('display.width', 500)\n",
    "pd.set_option('display.max_columns', 100)\n",
    "pd.set_option('display.notebook_repr_html', True)"
   ],
   "id": "2550f220d3f6b572",
   "outputs": [],
   "execution_count": 6
  },
  {
   "metadata": {},
   "cell_type": "markdown",
   "source": "## 1.1 Data Preparation",
   "id": "583c7fad714f1506"
  },
  {
   "metadata": {
    "jupyter": {
     "is_executing": true
    }
   },
   "cell_type": "code",
   "source": [
    "\n",
    "path = kagglehub.dataset_download(\"grouplens/movielens-20m-dataset\")\n",
    "\n",
    "print(\"Path to dataset files:\", path)\n",
    "\n",
    "\n",
    "files = os.listdir(path)\n",
    "files"
   ],
   "id": "dea568a445eecec5",
   "outputs": [],
   "execution_count": null
  },
  {
   "metadata": {
    "ExecuteTime": {
     "end_time": "2024-12-04T13:26:21.503009Z",
     "start_time": "2024-12-04T13:24:55.778428Z"
    }
   },
   "cell_type": "code",
   "source": [
    "genome_scores = pd.read_csv(\"data/genome_scores.csv\")\n",
    "genome_tags = pd.read_csv(\"data/genome_tags.csv\")\n",
    "link = pd.read_csv(\"data/link.csv\")\n",
    "movie = pd.read_csv(\"data/movie.csv\")\n",
    "rating = pd.read_csv(\"data/rating.csv\")\n",
    "tag = pd.read_csv(\"data/tag.csv\")"
   ],
   "id": "c582fdb21c337813",
   "outputs": [],
   "execution_count": 5
  },
  {
   "metadata": {},
   "cell_type": "markdown",
   "source": [
    "# Data Overview\n",
    "\n",
    "## Content\n",
    "No demographic information is included. Each user is represented by an `id`, and no other information is provided.\n",
    "\n",
    "The data are contained in six files:\n",
    "\n",
    "### 1. `tag.csv`\n",
    "Contains tags applied to movies by users:\n",
    "- `userId`\n",
    "- `movieId`\n",
    "- `tag`\n",
    "- `timestamp`\n",
    "\n",
    "### 2. `rating.csv`\n",
    "Contains ratings of movies by users:\n",
    "- `userId`\n",
    "- `movieId`\n",
    "- `rating`\n",
    "- `timestamp`\n",
    "\n",
    "### 3. `movie.csv`\n",
    "Contains movie information:\n",
    "- `movieId`\n",
    "- `title`\n",
    "- `genres`\n",
    "\n",
    "### 4. `link.csv`\n",
    "Contains identifiers that can be used to link to other sources:\n",
    "- `movieId`\n",
    "- `imdbId`\n",
    "- `tmdbId`\n",
    "\n",
    "### 5. `genome_scores.csv`\n",
    "Contains movie-tag relevance data:\n",
    "- `movieId`\n",
    "- `tagId`\n",
    "- `relevance`\n",
    "\n",
    "### 6. `genome_tags.csv`\n",
    "Contains tag descriptions:\n",
    "- `tagId`\n",
    "- `tag`\n"
   ],
   "id": "36fb09297109ac7f"
  },
  {
   "metadata": {
    "ExecuteTime": {
     "end_time": "2024-12-04T13:24:49.170086Z",
     "start_time": "2024-12-04T13:24:48.821632Z"
    }
   },
   "cell_type": "code",
   "source": "tag.head()",
   "id": "544490b6dee27bb4",
   "outputs": [
    {
     "ename": "NameError",
     "evalue": "name 'tag' is not defined",
     "output_type": "error",
     "traceback": [
      "\u001B[0;31m---------------------------------------------------------------------------\u001B[0m",
      "\u001B[0;31mNameError\u001B[0m                                 Traceback (most recent call last)",
      "Cell \u001B[0;32mIn[3], line 1\u001B[0m\n\u001B[0;32m----> 1\u001B[0m \u001B[43mtag\u001B[49m\u001B[38;5;241m.\u001B[39mhead()\n",
      "\u001B[0;31mNameError\u001B[0m: name 'tag' is not defined"
     ]
    }
   ],
   "execution_count": 3
  },
  {
   "metadata": {
    "ExecuteTime": {
     "end_time": "2024-12-03T21:47:39.743700Z",
     "start_time": "2024-12-03T21:47:22.548108Z"
    }
   },
   "cell_type": "code",
   "source": "genome_scores.describe()",
   "id": "dea55b0f7b87b1b2",
   "outputs": [
    {
     "data": {
      "text/plain": [
       "            movieId         tagId     relevance\n",
       "count  1.170977e+07  1.170977e+07  1.170977e+07\n",
       "mean   2.584297e+04  5.645000e+02  1.164833e-01\n",
       "std    3.467615e+04  3.256254e+02  1.542463e-01\n",
       "min    1.000000e+00  1.000000e+00  2.500000e-04\n",
       "25%    2.926000e+03  2.827500e+02  2.425000e-02\n",
       "50%    6.017000e+03  5.645000e+02  5.650000e-02\n",
       "75%    4.606200e+04  8.462500e+02  1.415000e-01\n",
       "max    1.311700e+05  1.128000e+03  1.000000e+00"
      ],
      "text/html": [
       "<div>\n",
       "<style scoped>\n",
       "    .dataframe tbody tr th:only-of-type {\n",
       "        vertical-align: middle;\n",
       "    }\n",
       "\n",
       "    .dataframe tbody tr th {\n",
       "        vertical-align: top;\n",
       "    }\n",
       "\n",
       "    .dataframe thead th {\n",
       "        text-align: right;\n",
       "    }\n",
       "</style>\n",
       "<table border=\"1\" class=\"dataframe\">\n",
       "  <thead>\n",
       "    <tr style=\"text-align: right;\">\n",
       "      <th></th>\n",
       "      <th>movieId</th>\n",
       "      <th>tagId</th>\n",
       "      <th>relevance</th>\n",
       "    </tr>\n",
       "  </thead>\n",
       "  <tbody>\n",
       "    <tr>\n",
       "      <th>count</th>\n",
       "      <td>1.170977e+07</td>\n",
       "      <td>1.170977e+07</td>\n",
       "      <td>1.170977e+07</td>\n",
       "    </tr>\n",
       "    <tr>\n",
       "      <th>mean</th>\n",
       "      <td>2.584297e+04</td>\n",
       "      <td>5.645000e+02</td>\n",
       "      <td>1.164833e-01</td>\n",
       "    </tr>\n",
       "    <tr>\n",
       "      <th>std</th>\n",
       "      <td>3.467615e+04</td>\n",
       "      <td>3.256254e+02</td>\n",
       "      <td>1.542463e-01</td>\n",
       "    </tr>\n",
       "    <tr>\n",
       "      <th>min</th>\n",
       "      <td>1.000000e+00</td>\n",
       "      <td>1.000000e+00</td>\n",
       "      <td>2.500000e-04</td>\n",
       "    </tr>\n",
       "    <tr>\n",
       "      <th>25%</th>\n",
       "      <td>2.926000e+03</td>\n",
       "      <td>2.827500e+02</td>\n",
       "      <td>2.425000e-02</td>\n",
       "    </tr>\n",
       "    <tr>\n",
       "      <th>50%</th>\n",
       "      <td>6.017000e+03</td>\n",
       "      <td>5.645000e+02</td>\n",
       "      <td>5.650000e-02</td>\n",
       "    </tr>\n",
       "    <tr>\n",
       "      <th>75%</th>\n",
       "      <td>4.606200e+04</td>\n",
       "      <td>8.462500e+02</td>\n",
       "      <td>1.415000e-01</td>\n",
       "    </tr>\n",
       "    <tr>\n",
       "      <th>max</th>\n",
       "      <td>1.311700e+05</td>\n",
       "      <td>1.128000e+03</td>\n",
       "      <td>1.000000e+00</td>\n",
       "    </tr>\n",
       "  </tbody>\n",
       "</table>\n",
       "</div>"
      ]
     },
     "execution_count": 10,
     "metadata": {},
     "output_type": "execute_result"
    }
   ],
   "execution_count": 10
  },
  {
   "metadata": {},
   "cell_type": "code",
   "outputs": [],
   "execution_count": null,
   "source": "",
   "id": "838995239287fd18"
  },
  {
   "metadata": {},
   "cell_type": "markdown",
   "source": "# 2. Grouping Movies Together!\n",
   "id": "f403cab22730579d"
  },
  {
   "metadata": {},
   "cell_type": "code",
   "outputs": [],
   "execution_count": null,
   "source": "",
   "id": "7bbb9aca16821ca4"
  },
  {
   "metadata": {},
   "cell_type": "markdown",
   "source": "# 3. Bonus Question\n",
   "id": "8c50d967e6b10847"
  },
  {
   "metadata": {},
   "cell_type": "code",
   "outputs": [],
   "execution_count": null,
   "source": "",
   "id": "ccd4ec09e740345f"
  },
  {
   "metadata": {},
   "cell_type": "markdown",
   "source": "# 4. Algorithmic Question\n",
   "id": "b5552ced2ea78c37"
  },
  {
   "metadata": {},
   "cell_type": "code",
   "outputs": [],
   "execution_count": null,
   "source": "",
   "id": "15a17ef8e11bf24e"
  }
 ],
 "metadata": {
  "kernelspec": {
   "display_name": "Python 3",
   "language": "python",
   "name": "python3"
  },
  "language_info": {
   "codemirror_mode": {
    "name": "ipython",
    "version": 2
   },
   "file_extension": ".py",
   "mimetype": "text/x-python",
   "name": "python",
   "nbconvert_exporter": "python",
   "pygments_lexer": "ipython2",
   "version": "2.7.6"
  }
 },
 "nbformat": 4,
 "nbformat_minor": 5
}
